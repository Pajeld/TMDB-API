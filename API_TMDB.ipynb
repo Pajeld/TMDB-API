{
 "cells": [
  {
   "cell_type": "code",
   "execution_count": null,
   "id": "5a4918e7-e940-4fea-9fd6-12d29295c636",
   "metadata": {
    "tags": []
   },
   "outputs": [],
   "source": [
    "import requests\n",
    "api_key = 'XXXX'\n",
    "import csv\n",
    "from time import sleep\n",
    "from random import randint\n",
    "import pandas as pd\n",
    "import numpy as np\n",
    "from ydata_profiling import ProfileReport\n",
    "import time"
   ]
  },
  {
   "cell_type": "code",
   "execution_count": null,
   "id": "5e11b7d8-a502-484f-9580-a903dc2a13f2",
   "metadata": {
    "tags": []
   },
   "outputs": [],
   "source": [
    "# Define the range of pages to fetch data from and lists to store it\n",
    "top_rated_movies_data = []\n",
    "num_pages = 100\n",
    "release_date_list = []\n",
    "type_list = []"
   ]
  },
  {
   "cell_type": "code",
   "execution_count": null,
   "id": "ff79293a-d55a-4137-a198-59bb24fbfc19",
   "metadata": {
    "tags": []
   },
   "outputs": [],
   "source": [
    "#Function to enter TMDB and fetch data about film from Top Rated list\n",
    "for page in range(1, num_pages + 1):\n",
    "\n",
    "    print(f\"Entering page {page}\")\n",
    "        \n",
    "    base_url = f'https://api.themoviedb.org/3/movie/top_rated?api_key={api_key}&language=en-US&page={page}'\n",
    "    url = 'https://api.themoviedb.org/3'\n",
    "\n",
    "    response = requests.get(base_url)\n",
    "    if response.status_code == 200:\n",
    "        time.sleep(2)        \n",
    "        top_rated_movies = response.json()['results']\n",
    "        #Get Movie ID\n",
    "        for movie in top_rated_movies:\n",
    "            movie_id = movie['id']\n",
    "            title = movie['title']\n",
    "             # Make an additional API request to get the movie's release date in US and save films only from specified date range\n",
    "            release_date_endpoint = f'/movie/{movie_id}/release_dates'\n",
    "            release_date_params = {'api_key': api_key}\n",
    "            release_date_response = requests.get(url + release_date_endpoint, params=release_date_params)\n",
    "\n",
    "            if release_date_response.status_code == 200:\n",
    "                    release_data = release_date_response.json()\n",
    "                    desired_country_code = 'US'  \n",
    "                    selected_release_info = None\n",
    "                    for entry in release_data['results']:\n",
    "                        if 'iso_3166_1' in entry and entry['iso_3166_1'] == desired_country_code:\n",
    "                            selected_release_info = {\n",
    "                                'release_date': entry['release_dates'][0]['release_date'],\n",
    "                                'type': entry['release_dates'][0]['type']\n",
    "                            }\n",
    "                            break  \n",
    "\n",
    "                    if selected_release_info:\n",
    "                        release_date = selected_release_info['release_date']\n",
    "                        release_year = int(release_date.split('-')[0])\n",
    "                        if not (2000 <= release_year <= 2022):\n",
    "\n",
    "                            continue  \n",
    "                        else:\n",
    "                            release_date_list.append(selected_release_info['release_date'])\n",
    "                            type_list.append(selected_release_info['type'])\n",
    "                    else:\n",
    "                        release_date_list.append('0000-00-00T00:00:00.000Z')\n",
    "                        type_list.append('N/A')\n",
    "            details_endpoint = f'/movie/{movie_id}'            \n",
    "            details_params = {'api_key': api_key}\n",
    "            details_response = requests.get(url + details_endpoint, params=details_params)\n",
    "            #Fetch data available on main page of a movie\n",
    "            if details_response.status_code == 200:\n",
    "                movie_details = details_response.json()\n",
    "                revenue = movie_details.get('revenue', 'n/a')\n",
    "                budget = movie_details.get('budget','n/a')\n",
    "                runtime = movie_details.get('runtime','n/a')\n",
    "                genres = movie_details.get('genres','n/a')\n",
    "                genre_1 = genres[0]['name']\n",
    "                if len(genres) > 1:\n",
    "                    genre_2 = genres[1]['name']\n",
    "                else:\n",
    "                    genre_2 = 'n/a'\n",
    "                vote_average = movie_details.get('vote_average','n/a')\n",
    "                vote_count = movie_details.get('vote_count', 'n/a')\n",
    "                production_countries = movie_details.get('production_countries','n/a')\n",
    "                spoken_languages = movie_details.get('spoken_languages','n/a')\n",
    "                imdb_id = movie_details.get('imdb_id','n/a')\n",
    "                keywords_endpoint = f'/movie/{movie_id}/keywords'\n",
    "                keywords_params = {'api_key': api_key}\n",
    "                keywords_response = requests.get(url + keywords_endpoint, params=keywords_params)\n",
    "                #Select 5 most important keywords\n",
    "                if keywords_response.status_code == 200:\n",
    "                    keywords_data = keywords_response.json()\n",
    "                    keywords = [keyword['name'] for keyword in keywords_data['keywords'][:5]]\n",
    "                else:\n",
    "                    print(f\"Failed to retrieve keywords for movie {movie_id}. Status Code: {keywords_response.status_code}\")\n",
    "                #Find ID of a movie in IMDB to tie it with other databases\n",
    "                imdb_endpoint = f'/movie/{movie_id}/external_ids'\n",
    "                imdb_params = {'api_key': api_key}\n",
    "                imdb_response = requests.get(url + imdb_endpoint, params=imdb_params)\n",
    "\n",
    "                if imdb_response.status_code == 200:\n",
    "                    imdb_data = imdb_response.json()\n",
    "                    imdb_id = imdb_data.get('imdb_id', 'n/a')\n",
    "                else:\n",
    "                    print(f\"Failed to retrieve IMDB ID for movie {movie_id}. Status Code: {imdb_response.status_code}\")\n",
    "                #Find information about cast and creators of a film\n",
    "                director_endpoint = f'/movie/{movie_id}/credits?language=en-US'\n",
    "                director_params = {'api_key': api_key}\n",
    "                director_response = requests.get(url + director_endpoint, params=director_params)\n",
    "\n",
    "                if director_response.status_code == 200:\n",
    "                    director_data = director_response.json()\n",
    "                    # Find the element with job = 'Director' and return the 'name'\n",
    "                    director_info = next((item for item in director_data.get('crew', []) if item['job'] == 'Director'), None)\n",
    "                    director = director_info.get('name', 'n/a')\n",
    "                else:\n",
    "                    print(\"Director not found in the data.\")\n",
    "                #Screenplay\n",
    "                if director_response.status_code == 200:\n",
    "                    screenplay_info = next((item for item in director_data.get('crew', []) if item['job'] == 'Screenplay'), None)\n",
    "                    if screenplay_info is not None:\n",
    "                        screenplay = screenplay_info.get('name', 'n/a')\n",
    "                    else:\n",
    "                        screenplay = ('n/a')\n",
    "                    \n",
    "                #Actors\n",
    "                cast = director_data['cast']\n",
    "                # Get the first two actors\n",
    "                first_actor = cast[0]['name'] if len(cast) > 0 else 'N/A'\n",
    "                second_actor = cast[1]['name'] if len(cast) > 1 else 'N/A'\n",
    "\n",
    "            else:\n",
    "                print(f\"Failed to retrieve details for movie {movie_id}. Status Code: {details_response.status_code}\")\n",
    "            top_rated_movies_data.append({'Title': title, \n",
    "                                          'ID': movie_id,\n",
    "                                          'IMDB_ID':imdb_id,\n",
    "                                          'Revenue': revenue,\n",
    "                                          'Budget': budget,\n",
    "                                          'Runtime':runtime,\n",
    "                                          'Genre_1':genre_1,\n",
    "                                          'Genre_2':genre_2,\n",
    "                                          'Vote':vote_average,\n",
    "                                          'Vote_count': vote_count,\n",
    "                                          'Production_countries': production_countries,\n",
    "                                          'spoken_languages':spoken_languages,\n",
    "                                          'keywords':keywords,\n",
    "                                          'director':director,\n",
    "                                          'screenplay':screenplay,\n",
    "                                          'actor_1':first_actor,\n",
    "                                          'actor_2':second_actor\n",
    "                                         })\n",
    "\n",
    "    else:\n",
    "        print(f\"Error: {response.status_code} - Unable to fetch data from page {page}\")\n",
    "  \n"
   ]
  },
  {
   "cell_type": "code",
   "execution_count": null,
   "id": "dc70c7ef-29a3-458f-96ef-286832500a8b",
   "metadata": {
    "tags": []
   },
   "outputs": [],
   "source": [
    "#Collect your data into DataFrame\n",
    "df = pd.DataFrame(top_rated_movies_data)\n",
    "df['Release_Date'] = release_date_list\n",
    "df['RDtype'] = type_list"
   ]
  },
  {
   "cell_type": "code",
   "execution_count": null,
   "id": "f4ea4c93-0227-4147-9395-50320112183d",
   "metadata": {
    "tags": []
   },
   "outputs": [],
   "source": [
    "#Divide certain variables and remove leftovers\n",
    "columns_to_select = ['Production_countries', 'spoken_languages', 'keywords']\n",
    "df_spare = df[columns_to_select].copy()"
   ]
  },
  {
   "cell_type": "code",
   "execution_count": null,
   "id": "dd58a8a9-b477-45fa-a67a-22ded866971a",
   "metadata": {
    "tags": []
   },
   "outputs": [],
   "source": [
    "df['Release_Date'] = df['Release_Date'].str.split('T').str[0]"
   ]
  },
  {
   "cell_type": "code",
   "execution_count": null,
   "id": "e84c4ceb-29e9-4feb-914e-a9cc58ef78da",
   "metadata": {
    "tags": []
   },
   "outputs": [],
   "source": [
    "df['Country_1'] = df['Production_countries'].apply(lambda x: x[0]['iso_3166_1'] if len(x) > 0 else 'n/a')\n",
    "df['Country_2'] = df['Production_countries'].apply(lambda x: x[1]['iso_3166_1'] if len(x) > 1 else 'n/a')"
   ]
  },
  {
   "cell_type": "code",
   "execution_count": null,
   "id": "8ac34781-b58e-4277-a38c-ee206b12f1c5",
   "metadata": {
    "tags": []
   },
   "outputs": [],
   "source": [
    "df['Language_1'] = df['spoken_languages'].apply(lambda x: x[0]['english_name'] if len(x) > 0 else 'n/a')\n",
    "df['Language_2'] = df['spoken_languages'].apply(lambda x: x[1]['english_name'] if len(x) > 1 else 'n/a')"
   ]
  },
  {
   "cell_type": "code",
   "execution_count": null,
   "id": "725c69b6-6049-4bc4-8712-d65e0b890f77",
   "metadata": {
    "tags": []
   },
   "outputs": [],
   "source": [
    "df['keyword_1'] = df['keywords'].apply(lambda x: x[0] if len(x) > 0 else 'n/a')\n",
    "df['keyword_2'] = df['keywords'].apply(lambda x: x[1] if len(x) > 1 else 'n/a')\n",
    "df['keyword_3'] = df['keywords'].apply(lambda x: x[2] if len(x) > 2 else 'n/a')\n",
    "df['keyword_4'] = df['keywords'].apply(lambda x: x[3] if len(x) > 3 else 'n/a')\n",
    "df['keyword_5'] = df['keywords'].apply(lambda x: x[4] if len(x) > 4 else 'n/a')"
   ]
  },
  {
   "cell_type": "code",
   "execution_count": null,
   "id": "42c72dda-2981-42c5-8bec-5cc51ebc25c4",
   "metadata": {
    "tags": []
   },
   "outputs": [],
   "source": [
    "df.drop(columns=columns_to_select, inplace=True)"
   ]
  },
  {
   "cell_type": "code",
   "execution_count": null,
   "id": "d253020c-91f4-43e2-8aac-b3a7105f0433",
   "metadata": {},
   "outputs": [],
   "source": [
    "# Write the DataFrame to a CSV file\n",
    "csv_file = \"movies.csv\"\n",
    "\n",
    "df.to_csv(csv_file, index=False)\n"
   ]
  }
 ],
 "metadata": {
  "kernelspec": {
   "display_name": "Python 3 (ipykernel)",
   "language": "python",
   "name": "python3"
  },
  "language_info": {
   "codemirror_mode": {
    "name": "ipython",
    "version": 3
   },
   "file_extension": ".py",
   "mimetype": "text/x-python",
   "name": "python",
   "nbconvert_exporter": "python",
   "pygments_lexer": "ipython3",
   "version": "3.10.10"
  }
 },
 "nbformat": 4,
 "nbformat_minor": 5
}
